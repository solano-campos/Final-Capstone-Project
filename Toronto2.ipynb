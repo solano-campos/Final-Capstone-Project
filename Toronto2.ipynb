{
    "nbformat_minor": 1, 
    "cells": [
        {
            "source": "Build a dataframe of the postal code of each neighborhood along with the borough name and neighborhood name in Toronto.", 
            "cell_type": "markdown", 
            "metadata": {
                "collapsed": true
            }
        }, 
        {
            "source": "# Importing Libraries", 
            "cell_type": "markdown", 
            "metadata": {}
        }, 
        {
            "source": "#Importing Libraries\nimport numpy as np # library to handle data in a vectorized manner\n\nimport pandas as pd # library for data analsysis\npd.set_option('display.max_columns', None)\npd.set_option('display.max_rows', None)\n\nimport json # library to handle JSON files\n\n!conda install -c conda-forge geopy --yes # uncomment this line if you haven't completed the Foursquare API lab\nfrom geopy.geocoders import Nominatim # convert an address into latitude and longitude values\n\nimport requests # library to handle requests\nfrom pandas.io.json import json_normalize # tranform JSON file into a pandas dataframe\n\n# Matplotlib and associated plotting modules\nimport matplotlib.cm as cm\nimport matplotlib.colors as colors\n\n#import k-means from clustering stage\nfrom sklearn.cluster import KMeans\n\n!conda install -c conda-forge folium=0.5.0 --yes # uncomment this line if you haven't completed the Foursquare API lab\nimport folium # map rendering library\n\nprint('Libraries imported.')", 
            "cell_type": "code", 
            "metadata": {}, 
            "outputs": [
                {
                    "output_type": "stream", 
                    "name": "stdout", 
                    "text": "Solving environment: done\n\n## Package Plan ##\n\n  environment location: /opt/conda/envs/Python36\n\n  added / updated specs: \n    - geopy\n\n\nThe following packages will be downloaded:\n\n    package                    |            build\n    ---------------------------|-----------------\n    geographiclib-1.49         |             py_0          32 KB  conda-forge\n    ca-certificates-2019.6.16  |       hecc5488_0         145 KB  conda-forge\n    openssl-1.1.1c             |       h516909a_0         2.1 MB  conda-forge\n    certifi-2019.6.16          |           py36_1         149 KB  conda-forge\n    geopy-1.20.0               |             py_0          57 KB  conda-forge\n    ------------------------------------------------------------\n                                           Total:         2.5 MB\n\nThe following NEW packages will be INSTALLED:\n\n    geographiclib:   1.49-py_0         conda-forge\n    geopy:           1.20.0-py_0       conda-forge\n\nThe following packages will be UPDATED:\n\n    ca-certificates: 2019.5.15-0                   --> 2019.6.16-hecc5488_0 conda-forge\n    certifi:         2019.6.16-py36_0              --> 2019.6.16-py36_1     conda-forge\n\nThe following packages will be DOWNGRADED:\n\n    openssl:         1.1.1c-h7b6447c_1             --> 1.1.1c-h516909a_0    conda-forge\n\n\nDownloading and Extracting Packages\ngeographiclib-1.49   | 32 KB     | ##################################### | 100% \nca-certificates-2019 | 145 KB    | ##################################### | 100% \nopenssl-1.1.1c       | 2.1 MB    | ##################################### | 100% \ncertifi-2019.6.16    | 149 KB    | ##################################### | 100% \ngeopy-1.20.0         | 57 KB     | ##################################### | 100% \nPreparing transaction: done\nVerifying transaction: done\nExecuting transaction: done\nSolving environment: done\n\n## Package Plan ##\n\n  environment location: /opt/conda/envs/Python36\n\n  added / updated specs: \n    - folium=0.5.0\n\n\nThe following packages will be downloaded:\n\n    package                    |            build\n    ---------------------------|-----------------\n    branca-0.3.1               |             py_0          25 KB  conda-forge\n    vincent-0.4.4              |             py_1          28 KB  conda-forge\n    altair-3.1.0               |           py36_0         724 KB  conda-forge\n    folium-0.5.0               |             py_0          45 KB  conda-forge\n    ------------------------------------------------------------\n                                           Total:         822 KB\n\nThe following NEW packages will be INSTALLED:\n\n    altair:  3.1.0-py36_0 conda-forge\n    branca:  0.3.1-py_0   conda-forge\n    folium:  0.5.0-py_0   conda-forge\n    vincent: 0.4.4-py_1   conda-forge\n\n\nDownloading and Extracting Packages\nbranca-0.3.1         | 25 KB     | ##################################### | 100% \nvincent-0.4.4        | 28 KB     | ##################################### | 100% \naltair-3.1.0         | 724 KB    | ##################################### | 100% \nfolium-0.5.0         | 45 KB     | ##################################### | 100% \nPreparing transaction: done\nVerifying transaction: done\nExecuting transaction: done\nLibraries imported.\n"
                }
            ], 
            "execution_count": 5
        }, 
        {
            "source": "# Creating the Dataset", 
            "cell_type": "markdown", 
            "metadata": {}
        }, 
        {
            "source": "Getting data from wikipedia", 
            "cell_type": "markdown", 
            "metadata": {}
        }, 
        {
            "source": "data = requests.get('https://en.wikipedia.org/wiki/List_of_postal_codes_of_Canada:_M').text\n\n# parse data from the html into a beautifulsoup object\nsoup = BeautifulSoup(data, 'html.parser')\n\n# create three lists to store table data\npostalCodeList = []\nboroughList = []\nneighborhoodList = []", 
            "cell_type": "code", 
            "metadata": {}, 
            "outputs": [], 
            "execution_count": 6
        }, 
        {
            "source": "# Using Soup to better analyze it", 
            "cell_type": "markdown", 
            "metadata": {}
        }, 
        {
            "source": "#USING THE SOUP\n# find the table\nsoup.find('table').find_all('tr')\n\n# find all the rows of the table\nsoup.find('table').find_all('tr')\n\n# for each row of the table, find all the table data\nfor row in soup.find('table').find_all('tr'):\n    cells = row.find_all('td')", 
            "cell_type": "code", 
            "metadata": {}, 
            "outputs": [], 
            "execution_count": 7
        }, 
        {
            "source": "# append the data into the respective lists\nfor row in soup.find('table').find_all('tr'):\n    cells = row.find_all('td')\n    if(len(cells) > 0):\n        postalCodeList.append(cells[0].text)\n        boroughList.append(cells[1].text)\n        neighborhoodList.append(cells[2].text.rstrip('\\n')) # avoid new lines in neighborhood cell", 
            "cell_type": "code", 
            "metadata": {}, 
            "outputs": [], 
            "execution_count": 8
        }, 
        {
            "source": "# create a new DataFrame from the three lists\ntoronto_df = pd.DataFrame({\"PostalCode\": postalCodeList,\n                           \"Borough\": boroughList,\n                           \"Neighborhood\": neighborhoodList})\n\ntoronto_df.head()", 
            "cell_type": "code", 
            "metadata": {}, 
            "outputs": [
                {
                    "output_type": "execute_result", 
                    "data": {
                        "text/html": "<div>\n<style scoped>\n    .dataframe tbody tr th:only-of-type {\n        vertical-align: middle;\n    }\n\n    .dataframe tbody tr th {\n        vertical-align: top;\n    }\n\n    .dataframe thead th {\n        text-align: right;\n    }\n</style>\n<table border=\"1\" class=\"dataframe\">\n  <thead>\n    <tr style=\"text-align: right;\">\n      <th></th>\n      <th>PostalCode</th>\n      <th>Borough</th>\n      <th>Neighborhood</th>\n    </tr>\n  </thead>\n  <tbody>\n    <tr>\n      <th>0</th>\n      <td>M1A</td>\n      <td>Not assigned</td>\n      <td>Not assigned</td>\n    </tr>\n    <tr>\n      <th>1</th>\n      <td>M2A</td>\n      <td>Not assigned</td>\n      <td>Not assigned</td>\n    </tr>\n    <tr>\n      <th>2</th>\n      <td>M3A</td>\n      <td>North York</td>\n      <td>Parkwoods</td>\n    </tr>\n    <tr>\n      <th>3</th>\n      <td>M4A</td>\n      <td>North York</td>\n      <td>Victoria Village</td>\n    </tr>\n    <tr>\n      <th>4</th>\n      <td>M5A</td>\n      <td>Downtown Toronto</td>\n      <td>Harbourfront</td>\n    </tr>\n  </tbody>\n</table>\n</div>", 
                        "text/plain": "  PostalCode           Borough      Neighborhood\n0        M1A      Not assigned      Not assigned\n1        M2A      Not assigned      Not assigned\n2        M3A        North York         Parkwoods\n3        M4A        North York  Victoria Village\n4        M5A  Downtown Toronto      Harbourfront"
                    }, 
                    "execution_count": 9, 
                    "metadata": {}
                }
            ], 
            "execution_count": 9
        }, 
        {
            "source": "# Modifying the data making it looks exacly equals to the project", 
            "cell_type": "markdown", 
            "metadata": {}
        }, 
        {
            "source": "# drop cells with a borough that is Not assigned\ntoronto_df_dropna = toronto_df[toronto_df.Borough != \"Not assigned\"].reset_index(drop=True)\ntoronto_df_dropna.head()", 
            "cell_type": "code", 
            "metadata": {}, 
            "outputs": [
                {
                    "output_type": "execute_result", 
                    "data": {
                        "text/html": "<div>\n<style scoped>\n    .dataframe tbody tr th:only-of-type {\n        vertical-align: middle;\n    }\n\n    .dataframe tbody tr th {\n        vertical-align: top;\n    }\n\n    .dataframe thead th {\n        text-align: right;\n    }\n</style>\n<table border=\"1\" class=\"dataframe\">\n  <thead>\n    <tr style=\"text-align: right;\">\n      <th></th>\n      <th>PostalCode</th>\n      <th>Borough</th>\n      <th>Neighborhood</th>\n    </tr>\n  </thead>\n  <tbody>\n    <tr>\n      <th>0</th>\n      <td>M3A</td>\n      <td>North York</td>\n      <td>Parkwoods</td>\n    </tr>\n    <tr>\n      <th>1</th>\n      <td>M4A</td>\n      <td>North York</td>\n      <td>Victoria Village</td>\n    </tr>\n    <tr>\n      <th>2</th>\n      <td>M5A</td>\n      <td>Downtown Toronto</td>\n      <td>Harbourfront</td>\n    </tr>\n    <tr>\n      <th>3</th>\n      <td>M5A</td>\n      <td>Downtown Toronto</td>\n      <td>Regent Park</td>\n    </tr>\n    <tr>\n      <th>4</th>\n      <td>M6A</td>\n      <td>North York</td>\n      <td>Lawrence Heights</td>\n    </tr>\n  </tbody>\n</table>\n</div>", 
                        "text/plain": "  PostalCode           Borough      Neighborhood\n0        M3A        North York         Parkwoods\n1        M4A        North York  Victoria Village\n2        M5A  Downtown Toronto      Harbourfront\n3        M5A  Downtown Toronto       Regent Park\n4        M6A        North York  Lawrence Heights"
                    }, 
                    "execution_count": 10, 
                    "metadata": {}
                }
            ], 
            "execution_count": 10
        }, 
        {
            "source": "# group neighborhoods in the same borough\ntoronto_df_grouped = toronto_df_dropna.groupby([\"PostalCode\", \"Borough\"], as_index=False).agg(lambda x: \", \".join(x))\ntoronto_df_grouped.head()", 
            "cell_type": "code", 
            "metadata": {}, 
            "outputs": [
                {
                    "output_type": "execute_result", 
                    "data": {
                        "text/html": "<div>\n<style scoped>\n    .dataframe tbody tr th:only-of-type {\n        vertical-align: middle;\n    }\n\n    .dataframe tbody tr th {\n        vertical-align: top;\n    }\n\n    .dataframe thead th {\n        text-align: right;\n    }\n</style>\n<table border=\"1\" class=\"dataframe\">\n  <thead>\n    <tr style=\"text-align: right;\">\n      <th></th>\n      <th>PostalCode</th>\n      <th>Borough</th>\n      <th>Neighborhood</th>\n    </tr>\n  </thead>\n  <tbody>\n    <tr>\n      <th>0</th>\n      <td>M1B</td>\n      <td>Scarborough</td>\n      <td>Rouge, Malvern</td>\n    </tr>\n    <tr>\n      <th>1</th>\n      <td>M1C</td>\n      <td>Scarborough</td>\n      <td>Highland Creek, Rouge Hill, Port Union</td>\n    </tr>\n    <tr>\n      <th>2</th>\n      <td>M1E</td>\n      <td>Scarborough</td>\n      <td>Guildwood, Morningside, West Hill</td>\n    </tr>\n    <tr>\n      <th>3</th>\n      <td>M1G</td>\n      <td>Scarborough</td>\n      <td>Woburn</td>\n    </tr>\n    <tr>\n      <th>4</th>\n      <td>M1H</td>\n      <td>Scarborough</td>\n      <td>Cedarbrae</td>\n    </tr>\n  </tbody>\n</table>\n</div>", 
                        "text/plain": "  PostalCode      Borough                            Neighborhood\n0        M1B  Scarborough                          Rouge, Malvern\n1        M1C  Scarborough  Highland Creek, Rouge Hill, Port Union\n2        M1E  Scarborough       Guildwood, Morningside, West Hill\n3        M1G  Scarborough                                  Woburn\n4        M1H  Scarborough                               Cedarbrae"
                    }, 
                    "execution_count": 11, 
                    "metadata": {}
                }
            ], 
            "execution_count": 11
        }, 
        {
            "source": "# for Neighborhood=\"Not assigned\", make the value the same as Borough\nfor index, row in toronto_df_grouped.iterrows():\n    if row[\"Neighborhood\"] == \"Not assigned\":\n        row[\"Neighborhood\"] = row[\"Borough\"]\n        \ntoronto_df_grouped.head()", 
            "cell_type": "code", 
            "metadata": {}, 
            "outputs": [
                {
                    "output_type": "execute_result", 
                    "data": {
                        "text/html": "<div>\n<style scoped>\n    .dataframe tbody tr th:only-of-type {\n        vertical-align: middle;\n    }\n\n    .dataframe tbody tr th {\n        vertical-align: top;\n    }\n\n    .dataframe thead th {\n        text-align: right;\n    }\n</style>\n<table border=\"1\" class=\"dataframe\">\n  <thead>\n    <tr style=\"text-align: right;\">\n      <th></th>\n      <th>PostalCode</th>\n      <th>Borough</th>\n      <th>Neighborhood</th>\n    </tr>\n  </thead>\n  <tbody>\n    <tr>\n      <th>0</th>\n      <td>M1B</td>\n      <td>Scarborough</td>\n      <td>Rouge, Malvern</td>\n    </tr>\n    <tr>\n      <th>1</th>\n      <td>M1C</td>\n      <td>Scarborough</td>\n      <td>Highland Creek, Rouge Hill, Port Union</td>\n    </tr>\n    <tr>\n      <th>2</th>\n      <td>M1E</td>\n      <td>Scarborough</td>\n      <td>Guildwood, Morningside, West Hill</td>\n    </tr>\n    <tr>\n      <th>3</th>\n      <td>M1G</td>\n      <td>Scarborough</td>\n      <td>Woburn</td>\n    </tr>\n    <tr>\n      <th>4</th>\n      <td>M1H</td>\n      <td>Scarborough</td>\n      <td>Cedarbrae</td>\n    </tr>\n  </tbody>\n</table>\n</div>", 
                        "text/plain": "  PostalCode      Borough                            Neighborhood\n0        M1B  Scarborough                          Rouge, Malvern\n1        M1C  Scarborough  Highland Creek, Rouge Hill, Port Union\n2        M1E  Scarborough       Guildwood, Morningside, West Hill\n3        M1G  Scarborough                                  Woburn\n4        M1H  Scarborough                               Cedarbrae"
                    }, 
                    "execution_count": 12, 
                    "metadata": {}
                }
            ], 
            "execution_count": 12
        }, 
        {
            "source": "# Creating a test Dataframe", 
            "cell_type": "markdown", 
            "metadata": {}
        }, 
        {
            "source": "# create a new test dataframe\ncolumn_names = [\"PostalCode\", \"Borough\", \"Neighborhood\"]\ntest_df = pd.DataFrame(columns=column_names)\n\ntest_list = [\"M5G\", \"M2H\", \"M4B\", \"M1J\", \"M4G\", \"M4M\", \"M1R\", \"M9V\", \"M9L\", \"M5V\", \"M1B\", \"M5A\"]\n\nfor postcode in test_list:\n    test_df = test_df.append(toronto_df_grouped[toronto_df_grouped[\"PostalCode\"]==postcode], ignore_index=True)\n    \ntest_df", 
            "cell_type": "code", 
            "metadata": {}, 
            "outputs": [
                {
                    "output_type": "execute_result", 
                    "data": {
                        "text/html": "<div>\n<style scoped>\n    .dataframe tbody tr th:only-of-type {\n        vertical-align: middle;\n    }\n\n    .dataframe tbody tr th {\n        vertical-align: top;\n    }\n\n    .dataframe thead th {\n        text-align: right;\n    }\n</style>\n<table border=\"1\" class=\"dataframe\">\n  <thead>\n    <tr style=\"text-align: right;\">\n      <th></th>\n      <th>PostalCode</th>\n      <th>Borough</th>\n      <th>Neighborhood</th>\n    </tr>\n  </thead>\n  <tbody>\n    <tr>\n      <th>0</th>\n      <td>M5G</td>\n      <td>Downtown Toronto</td>\n      <td>Central Bay Street</td>\n    </tr>\n    <tr>\n      <th>1</th>\n      <td>M2H</td>\n      <td>North York</td>\n      <td>Hillcrest Village</td>\n    </tr>\n    <tr>\n      <th>2</th>\n      <td>M4B</td>\n      <td>East York</td>\n      <td>Woodbine Gardens, Parkview Hill</td>\n    </tr>\n    <tr>\n      <th>3</th>\n      <td>M1J</td>\n      <td>Scarborough</td>\n      <td>Scarborough Village</td>\n    </tr>\n    <tr>\n      <th>4</th>\n      <td>M4G</td>\n      <td>East York</td>\n      <td>Leaside</td>\n    </tr>\n    <tr>\n      <th>5</th>\n      <td>M4M</td>\n      <td>East Toronto</td>\n      <td>Studio District</td>\n    </tr>\n    <tr>\n      <th>6</th>\n      <td>M1R</td>\n      <td>Scarborough</td>\n      <td>Maryvale, Wexford</td>\n    </tr>\n    <tr>\n      <th>7</th>\n      <td>M9V</td>\n      <td>Etobicoke</td>\n      <td>Albion Gardens, Beaumond Heights, Humbergate, ...</td>\n    </tr>\n    <tr>\n      <th>8</th>\n      <td>M9L</td>\n      <td>North York</td>\n      <td>Humber Summit</td>\n    </tr>\n    <tr>\n      <th>9</th>\n      <td>M5V</td>\n      <td>Downtown Toronto</td>\n      <td>CN Tower, Bathurst Quay, Island airport, Harbo...</td>\n    </tr>\n    <tr>\n      <th>10</th>\n      <td>M1B</td>\n      <td>Scarborough</td>\n      <td>Rouge, Malvern</td>\n    </tr>\n    <tr>\n      <th>11</th>\n      <td>M5A</td>\n      <td>Downtown Toronto</td>\n      <td>Harbourfront, Regent Park</td>\n    </tr>\n  </tbody>\n</table>\n</div>", 
                        "text/plain": "   PostalCode           Borough  \\\n0         M5G  Downtown Toronto   \n1         M2H        North York   \n2         M4B         East York   \n3         M1J       Scarborough   \n4         M4G         East York   \n5         M4M      East Toronto   \n6         M1R       Scarborough   \n7         M9V         Etobicoke   \n8         M9L        North York   \n9         M5V  Downtown Toronto   \n10        M1B       Scarborough   \n11        M5A  Downtown Toronto   \n\n                                         Neighborhood  \n0                                  Central Bay Street  \n1                                   Hillcrest Village  \n2                     Woodbine Gardens, Parkview Hill  \n3                                 Scarborough Village  \n4                                             Leaside  \n5                                     Studio District  \n6                                   Maryvale, Wexford  \n7   Albion Gardens, Beaumond Heights, Humbergate, ...  \n8                                       Humber Summit  \n9   CN Tower, Bathurst Quay, Island airport, Harbo...  \n10                                     Rouge, Malvern  \n11                          Harbourfront, Regent Park  "
                    }, 
                    "execution_count": 13, 
                    "metadata": {}
                }
            ], 
            "execution_count": 13
        }, 
        {
            "source": "# Making the last print of the size of the dataframe", 
            "cell_type": "markdown", 
            "metadata": {}
        }, 
        {
            "source": "# print the number of rows of the cleaned dataframe\ntoronto_df_grouped.shape", 
            "cell_type": "code", 
            "metadata": {}, 
            "outputs": [
                {
                    "output_type": "execute_result", 
                    "data": {
                        "text/plain": "(103, 3)"
                    }, 
                    "execution_count": 14, 
                    "metadata": {}
                }
            ], 
            "execution_count": 14
        }, 
        {
            "source": "# Starting Part 2", 
            "cell_type": "markdown", 
            "metadata": {}
        }, 
        {
            "source": "# Creating the Geospatial Data", 
            "cell_type": "markdown", 
            "metadata": {}
        }, 
        {
            "source": "Geospatial_code = [[\"M1B\",\"43.8066863\",\"-79.1943534\"],[\"M1C\",\"43.7845351\",\"-79.1604971\"],[\"M1E\",\"43.7635726\",\"-79.1887115\"],[\"M1G\",\"43.7709921\",\"-79.2169174\"],[\"M1H\",\"43.773136\",\"-79.2394761\"],[\"M1J\",\"43.7447342\",\"-79.2394761\"],[\"M1K\",\"43.7279292\",\"-79.2620294\"],[\"M1L\",\"43.7111117\",\"-79.2845772\"],[\"M1M\",\"43.716316\",\"-79.2394761\"],[\"M1N\",\"43.692657\",\"-79.2648481\"],[\"M1P\",\"43.7574096\",\"-79.273304\"],[\"M1R\",\"43.7500715\",\"-79.2958491\"],[\"M1S\",\"43.7942003\",\"-79.2620294\"],[\"M1T\",\"43.7816375\",\"-79.3043021\"],[\"M1V\",\"43.8152522\",\"-79.2845772\"],[\"M1W\",\"43.7995252\",\"-79.3183887\"],[\"M1X\",\"43.8361247\",\"-79.2056361\"],[\"M2H\",\"43.8037622\",\"-79.3634517\"],[\"M2J\",\"43.7785175\",\"-79.3465557\"],[\"M2K\",\"43.7869473\",\"-79.385975\"],[\"M2L\",\"43.7574902\",\"-79.3747141\"],[\"M2M\",\"43.789053\",\"-79.4084928\"],[\"M2N\",\"43.7701199\",\"-79.4084928\"],[\"M2P\",\"43.7527583\",\"-79.4000493\"],[\"M2R\",\"43.7827364\",\"-79.4422593\"],[\"M3A\",\"43.7532586\",\"-79.3296565\"],[\"M3B\",\"43.7459058\",\"-79.352188\"],[\"M3C\",\"43.7258997\",\"-79.340923\"],[\"M3H\",\"43.7543283\",\"-79.4422593\"],[\"M3J\",\"43.7679803\",\"-79.4872619\"],[\"M3K\",\"43.7374732\",\"-79.4647633\"],[\"M3L\",\"43.7390146\",\"-79.5069436\"],[\"M3M\",\"43.7284964\",\"-79.4956974\"],[\"M3N\",\"43.7616313\",\"-79.5209994\"],[\"M4A\",\"43.7258823\",\"-79.3155716\"],[\"M4B\",\"43.7063972\",\"-79.309937\"],[\"M4C\",\"43.6953439\",\"-79.3183887\"],[\"M4E\",\"43.6763574\",\"-79.2930312\"],[\"M4G\",\"43.7090604\",\"-79.3634517\"],[\"M4H\",\"43.7053689\",\"-79.3493719\"],[\"M4J\",\"43.685347\",\"-79.3381065\"],[\"M4K\",\"43.6795571\",\"-79.352188\"],[\"M4L\",\"43.6689985\",\"-79.3155716\"],[\"M4M\",\"43.6595255\",\"-79.340923\"],[\"M4N\",\"43.7280205\",\"-79.3887901\"],[\"M4P\",\"43.7127511\",\"-79.3901975\"],[\"M4R\",\"43.7153834\",\"-79.4056784\"],[\"M4S\",\"43.7043244\",\"-79.3887901\"],[\"M4T\",\"43.6895743\",\"-79.3831599\"],[\"M4V\",\"43.6864123\",\"-79.4000493\"],[\"M4W\",\"43.6795626\",\"-79.3775294\"],[\"M4X\",\"43.667967\",\"-79.3676753\"],[\"M4Y\",\"43.6658599\",\"-79.3831599\"],[\"M5A\",\"43.6542599\",\"-79.3606359\"],[\"M5B\",\"43.6571618\",\"-79.3789371\"],[\"M5C\",\"43.6514939\",\"-79.3754179\"],[\"M5E\",\"43.6447708\",\"-79.3733064\"],[\"M5G\",\"43.6579524\",\"-79.3873826\"],[\"M5H\",\"43.6505712\",\"-79.3845675\"],[\"M5J\",\"43.6408157\",\"-79.3817523\"],[\"M5K\",\"43.6471768\",\"-79.3815764\"],[\"M5L\",\"43.6481985\",\"-79.3798169\"],[\"M5M\",\"43.7332825\",\"-79.4197497\"],[\"M5N\",\"43.7116948\",\"-79.4169356\"],[\"M5P\",\"43.6969476\",\"-79.4113072\"],[\"M5R\",\"43.6727097\",\"-79.4056784\"],[\"M5S\",\"43.6626956\",\"-79.4000493\"],[\"M5T\",\"43.6532057\",\"-79.4000493\"],[\"M5V\",\"43.6289467\",\"-79.3944199\"],[\"M5W\",\"43.6464352\",\"-79.374846\"],[\"M5X\",\"43.6484292\",\"-79.3822802\"],[\"M6A\",\"43.718518\",\"-79.4647633\"],[\"M6B\",\"43.709577\",\"-79.4450726\"],[\"M6C\",\"43.6937813\",\"-79.4281914\"],[\"M6E\",\"43.6890256\",\"-79.453512\"],[\"M6G\",\"43.669542\",\"-79.4225637\"],[\"M6H\",\"43.6690051\",\"-79.4422593\"],[\"M6J\",\"43.6479267\",\"-79.4197497\"],[\"M6K\",\"43.6368472\",\"-79.4281914\"],[\"M6L\",\"43.7137562\",\"-79.4900738\"],[\"M6M\",\"43.6911158\",\"-79.4760133\"],[\"M6N\",\"43.6731853\",\"-79.4872619\"],[\"M6P\",\"43.6616083\",\"-79.4647633\"],[\"M6R\",\"43.6489597\",\"-79.456325\"],[\"M6S\",\"43.6515706\",\"-79.4844499\"],[\"M7A\",\"43.6623015\",\"-79.3894938\"],[\"M7R\",\"43.6369656\",\"-79.615819\"],[\"M7Y\",\"43.6627439\",\"-79.321558\"],[\"M8V\",\"43.6056466\",\"-79.5013207\"],[\"M8W\",\"43.6024137\",\"-79.5434841\"],[\"M8X\",\"43.6536536\",\"-79.5069436\"],[\"M8Y\",\"43.6362579\",\"-79.4985091\"],[\"M8Z\",\"43.6288408\",\"-79.5209994\"],[\"M9A\",\"43.6678556\",\"-79.5322424\"],[\"M9B\",\"43.6509432\",\"-79.5547244\"],[\"M9C\",\"43.6435152\",\"-79.5772008\"],[\"M9L\",\"43.7563033\",\"-79.5659633\"],[\"M9M\",\"43.7247659\",\"-79.5322424\"],[\"M9N\",\"43.706876\",\"-79.5181884\"],[\"M9P\",\"43.696319\",\"-79.5322424\"],[\"M9R\",\"43.6889054\",\"-79.5547244\"],[\"M9V\",\"43.7394164\",\"-79.5884369\"],[\"M9W\",\"43.7067483\",\"-79.5940544\"]]", 
            "cell_type": "code", 
            "metadata": {}, 
            "outputs": [], 
            "execution_count": 31
        }, 
        {
            "source": "from pandas import DataFrame\ncoordinates = DataFrame.from_records(Geospatial_code)\ncoordinates.columns = [\"Postal Code\",\"Latitude\",\"Longitude\"]", 
            "cell_type": "code", 
            "metadata": {}, 
            "outputs": [], 
            "execution_count": 39
        }, 
        {
            "source": "coordinates.head()", 
            "cell_type": "code", 
            "metadata": {}, 
            "outputs": [
                {
                    "output_type": "execute_result", 
                    "data": {
                        "text/html": "<div>\n<style scoped>\n    .dataframe tbody tr th:only-of-type {\n        vertical-align: middle;\n    }\n\n    .dataframe tbody tr th {\n        vertical-align: top;\n    }\n\n    .dataframe thead th {\n        text-align: right;\n    }\n</style>\n<table border=\"1\" class=\"dataframe\">\n  <thead>\n    <tr style=\"text-align: right;\">\n      <th></th>\n      <th>Postal Code</th>\n      <th>Latitude</th>\n      <th>Longitude</th>\n    </tr>\n  </thead>\n  <tbody>\n    <tr>\n      <th>0</th>\n      <td>M1B</td>\n      <td>43.8066863</td>\n      <td>-79.1943534</td>\n    </tr>\n    <tr>\n      <th>1</th>\n      <td>M1C</td>\n      <td>43.7845351</td>\n      <td>-79.1604971</td>\n    </tr>\n    <tr>\n      <th>2</th>\n      <td>M1E</td>\n      <td>43.7635726</td>\n      <td>-79.1887115</td>\n    </tr>\n    <tr>\n      <th>3</th>\n      <td>M1G</td>\n      <td>43.7709921</td>\n      <td>-79.2169174</td>\n    </tr>\n    <tr>\n      <th>4</th>\n      <td>M1H</td>\n      <td>43.773136</td>\n      <td>-79.2394761</td>\n    </tr>\n  </tbody>\n</table>\n</div>", 
                        "text/plain": "  Postal Code    Latitude    Longitude\n0         M1B  43.8066863  -79.1943534\n1         M1C  43.7845351  -79.1604971\n2         M1E  43.7635726  -79.1887115\n3         M1G  43.7709921  -79.2169174\n4         M1H   43.773136  -79.2394761"
                    }, 
                    "execution_count": 40, 
                    "metadata": {}
                }
            ], 
            "execution_count": 40
        }, 
        {
            "source": "# rename the column \"PostalCode\"\ncoordinates.rename(columns={\"Postal Code\": \"PostalCode\"}, inplace=True)\ncoordinates.head()", 
            "cell_type": "code", 
            "metadata": {}, 
            "outputs": [
                {
                    "output_type": "execute_result", 
                    "data": {
                        "text/html": "<div>\n<style scoped>\n    .dataframe tbody tr th:only-of-type {\n        vertical-align: middle;\n    }\n\n    .dataframe tbody tr th {\n        vertical-align: top;\n    }\n\n    .dataframe thead th {\n        text-align: right;\n    }\n</style>\n<table border=\"1\" class=\"dataframe\">\n  <thead>\n    <tr style=\"text-align: right;\">\n      <th></th>\n      <th>PostalCode</th>\n      <th>Latitude</th>\n      <th>Longitude</th>\n    </tr>\n  </thead>\n  <tbody>\n    <tr>\n      <th>0</th>\n      <td>M1B</td>\n      <td>43.8066863</td>\n      <td>-79.1943534</td>\n    </tr>\n    <tr>\n      <th>1</th>\n      <td>M1C</td>\n      <td>43.7845351</td>\n      <td>-79.1604971</td>\n    </tr>\n    <tr>\n      <th>2</th>\n      <td>M1E</td>\n      <td>43.7635726</td>\n      <td>-79.1887115</td>\n    </tr>\n    <tr>\n      <th>3</th>\n      <td>M1G</td>\n      <td>43.7709921</td>\n      <td>-79.2169174</td>\n    </tr>\n    <tr>\n      <th>4</th>\n      <td>M1H</td>\n      <td>43.773136</td>\n      <td>-79.2394761</td>\n    </tr>\n  </tbody>\n</table>\n</div>", 
                        "text/plain": "  PostalCode    Latitude    Longitude\n0        M1B  43.8066863  -79.1943534\n1        M1C  43.7845351  -79.1604971\n2        M1E  43.7635726  -79.1887115\n3        M1G  43.7709921  -79.2169174\n4        M1H   43.773136  -79.2394761"
                    }, 
                    "execution_count": 41, 
                    "metadata": {}
                }
            ], 
            "execution_count": 41
        }, 
        {
            "source": "# merge two table on the column \"PostalCode\"\ntoronto_df_new = toronto_df_grouped.merge(coordinates, on=\"PostalCode\", how=\"left\")\ntoronto_df_new.head()", 
            "cell_type": "code", 
            "metadata": {}, 
            "outputs": [
                {
                    "output_type": "execute_result", 
                    "data": {
                        "text/html": "<div>\n<style scoped>\n    .dataframe tbody tr th:only-of-type {\n        vertical-align: middle;\n    }\n\n    .dataframe tbody tr th {\n        vertical-align: top;\n    }\n\n    .dataframe thead th {\n        text-align: right;\n    }\n</style>\n<table border=\"1\" class=\"dataframe\">\n  <thead>\n    <tr style=\"text-align: right;\">\n      <th></th>\n      <th>PostalCode</th>\n      <th>Borough</th>\n      <th>Neighborhood</th>\n      <th>Latitude</th>\n      <th>Longitude</th>\n    </tr>\n  </thead>\n  <tbody>\n    <tr>\n      <th>0</th>\n      <td>M1B</td>\n      <td>Scarborough</td>\n      <td>Rouge, Malvern</td>\n      <td>43.8066863</td>\n      <td>-79.1943534</td>\n    </tr>\n    <tr>\n      <th>1</th>\n      <td>M1C</td>\n      <td>Scarborough</td>\n      <td>Highland Creek, Rouge Hill, Port Union</td>\n      <td>43.7845351</td>\n      <td>-79.1604971</td>\n    </tr>\n    <tr>\n      <th>2</th>\n      <td>M1E</td>\n      <td>Scarborough</td>\n      <td>Guildwood, Morningside, West Hill</td>\n      <td>43.7635726</td>\n      <td>-79.1887115</td>\n    </tr>\n    <tr>\n      <th>3</th>\n      <td>M1G</td>\n      <td>Scarborough</td>\n      <td>Woburn</td>\n      <td>43.7709921</td>\n      <td>-79.2169174</td>\n    </tr>\n    <tr>\n      <th>4</th>\n      <td>M1H</td>\n      <td>Scarborough</td>\n      <td>Cedarbrae</td>\n      <td>43.773136</td>\n      <td>-79.2394761</td>\n    </tr>\n  </tbody>\n</table>\n</div>", 
                        "text/plain": "  PostalCode      Borough                            Neighborhood    Latitude  \\\n0        M1B  Scarborough                          Rouge, Malvern  43.8066863   \n1        M1C  Scarborough  Highland Creek, Rouge Hill, Port Union  43.7845351   \n2        M1E  Scarborough       Guildwood, Morningside, West Hill  43.7635726   \n3        M1G  Scarborough                                  Woburn  43.7709921   \n4        M1H  Scarborough                               Cedarbrae   43.773136   \n\n     Longitude  \n0  -79.1943534  \n1  -79.1604971  \n2  -79.1887115  \n3  -79.2169174  \n4  -79.2394761  "
                    }, 
                    "execution_count": 42, 
                    "metadata": {}
                }
            ], 
            "execution_count": 42
        }, 
        {
            "source": "# create a new test dataframe\ncolumn_names = [\"PostalCode\", \"Borough\", \"Neighborhood\", \"Latitude\", \"Longitude\"]\ntest_df = pd.DataFrame(columns=column_names)\n\ntest_list = [\"M5G\", \"M2H\", \"M4B\", \"M1J\", \"M4G\", \"M4M\", \"M1R\", \"M9V\", \"M9L\", \"M5V\", \"M1B\", \"M5A\"]\n\nfor postcode in test_list:\n    test_df = test_df.append(toronto_df_new[toronto_df_new[\"PostalCode\"]==postcode], ignore_index=True)\n    \ntest_df", 
            "cell_type": "code", 
            "metadata": {}, 
            "outputs": [
                {
                    "output_type": "execute_result", 
                    "data": {
                        "text/html": "<div>\n<style scoped>\n    .dataframe tbody tr th:only-of-type {\n        vertical-align: middle;\n    }\n\n    .dataframe tbody tr th {\n        vertical-align: top;\n    }\n\n    .dataframe thead th {\n        text-align: right;\n    }\n</style>\n<table border=\"1\" class=\"dataframe\">\n  <thead>\n    <tr style=\"text-align: right;\">\n      <th></th>\n      <th>PostalCode</th>\n      <th>Borough</th>\n      <th>Neighborhood</th>\n      <th>Latitude</th>\n      <th>Longitude</th>\n    </tr>\n  </thead>\n  <tbody>\n    <tr>\n      <th>0</th>\n      <td>M5G</td>\n      <td>Downtown Toronto</td>\n      <td>Central Bay Street</td>\n      <td>43.6579524</td>\n      <td>-79.3873826</td>\n    </tr>\n    <tr>\n      <th>1</th>\n      <td>M2H</td>\n      <td>North York</td>\n      <td>Hillcrest Village</td>\n      <td>43.8037622</td>\n      <td>-79.3634517</td>\n    </tr>\n    <tr>\n      <th>2</th>\n      <td>M4B</td>\n      <td>East York</td>\n      <td>Woodbine Gardens, Parkview Hill</td>\n      <td>43.7063972</td>\n      <td>-79.309937</td>\n    </tr>\n    <tr>\n      <th>3</th>\n      <td>M1J</td>\n      <td>Scarborough</td>\n      <td>Scarborough Village</td>\n      <td>43.7447342</td>\n      <td>-79.2394761</td>\n    </tr>\n    <tr>\n      <th>4</th>\n      <td>M4G</td>\n      <td>East York</td>\n      <td>Leaside</td>\n      <td>43.7090604</td>\n      <td>-79.3634517</td>\n    </tr>\n    <tr>\n      <th>5</th>\n      <td>M4M</td>\n      <td>East Toronto</td>\n      <td>Studio District</td>\n      <td>43.6595255</td>\n      <td>-79.340923</td>\n    </tr>\n    <tr>\n      <th>6</th>\n      <td>M1R</td>\n      <td>Scarborough</td>\n      <td>Maryvale, Wexford</td>\n      <td>43.7500715</td>\n      <td>-79.2958491</td>\n    </tr>\n    <tr>\n      <th>7</th>\n      <td>M9V</td>\n      <td>Etobicoke</td>\n      <td>Albion Gardens, Beaumond Heights, Humbergate, ...</td>\n      <td>43.7394164</td>\n      <td>-79.5884369</td>\n    </tr>\n    <tr>\n      <th>8</th>\n      <td>M9L</td>\n      <td>North York</td>\n      <td>Humber Summit</td>\n      <td>43.7563033</td>\n      <td>-79.5659633</td>\n    </tr>\n    <tr>\n      <th>9</th>\n      <td>M5V</td>\n      <td>Downtown Toronto</td>\n      <td>CN Tower, Bathurst Quay, Island airport, Harbo...</td>\n      <td>43.6289467</td>\n      <td>-79.3944199</td>\n    </tr>\n    <tr>\n      <th>10</th>\n      <td>M1B</td>\n      <td>Scarborough</td>\n      <td>Rouge, Malvern</td>\n      <td>43.8066863</td>\n      <td>-79.1943534</td>\n    </tr>\n    <tr>\n      <th>11</th>\n      <td>M5A</td>\n      <td>Downtown Toronto</td>\n      <td>Harbourfront, Regent Park</td>\n      <td>43.6542599</td>\n      <td>-79.3606359</td>\n    </tr>\n  </tbody>\n</table>\n</div>", 
                        "text/plain": "   PostalCode           Borough  \\\n0         M5G  Downtown Toronto   \n1         M2H        North York   \n2         M4B         East York   \n3         M1J       Scarborough   \n4         M4G         East York   \n5         M4M      East Toronto   \n6         M1R       Scarborough   \n7         M9V         Etobicoke   \n8         M9L        North York   \n9         M5V  Downtown Toronto   \n10        M1B       Scarborough   \n11        M5A  Downtown Toronto   \n\n                                         Neighborhood    Latitude    Longitude  \n0                                  Central Bay Street  43.6579524  -79.3873826  \n1                                   Hillcrest Village  43.8037622  -79.3634517  \n2                     Woodbine Gardens, Parkview Hill  43.7063972   -79.309937  \n3                                 Scarborough Village  43.7447342  -79.2394761  \n4                                             Leaside  43.7090604  -79.3634517  \n5                                     Studio District  43.6595255   -79.340923  \n6                                   Maryvale, Wexford  43.7500715  -79.2958491  \n7   Albion Gardens, Beaumond Heights, Humbergate, ...  43.7394164  -79.5884369  \n8                                       Humber Summit  43.7563033  -79.5659633  \n9   CN Tower, Bathurst Quay, Island airport, Harbo...  43.6289467  -79.3944199  \n10                                     Rouge, Malvern  43.8066863  -79.1943534  \n11                          Harbourfront, Regent Park  43.6542599  -79.3606359  "
                    }, 
                    "execution_count": 43, 
                    "metadata": {}
                }
            ], 
            "execution_count": 43
        }
    ], 
    "metadata": {
        "kernelspec": {
            "display_name": "Python 3.6", 
            "name": "python3", 
            "language": "python"
        }, 
        "language_info": {
            "mimetype": "text/x-python", 
            "nbconvert_exporter": "python", 
            "version": "3.6.8", 
            "name": "python", 
            "pygments_lexer": "ipython3", 
            "file_extension": ".py", 
            "codemirror_mode": {
                "version": 3, 
                "name": "ipython"
            }
        }
    }, 
    "nbformat": 4
}